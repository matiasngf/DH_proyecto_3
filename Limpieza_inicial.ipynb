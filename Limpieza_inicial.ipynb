{
 "cells": [
  {
   "cell_type": "code",
   "execution_count": 2,
   "metadata": {},
   "outputs": [],
   "source": [
    "import pandas as pd"
   ]
  },
  {
   "cell_type": "code",
   "execution_count": 4,
   "metadata": {},
   "outputs": [
    {
     "name": "stderr",
     "output_type": "stream",
     "text": [
      "/opt/conda/lib/python3.6/site-packages/IPython/core/interactiveshell.py:2785: DtypeWarning: Columns (8,11) have mixed types. Specify dtype option on import or set low_memory=False.\n",
      "  interactivity=interactivity, compiler=compiler, result=result)\n",
      "/opt/conda/lib/python3.6/site-packages/IPython/core/interactiveshell.py:2785: DtypeWarning: Columns (10) have mixed types. Specify dtype option on import or set low_memory=False.\n",
      "  interactivity=interactivity, compiler=compiler, result=result)\n",
      "/opt/conda/lib/python3.6/site-packages/IPython/core/interactiveshell.py:2785: DtypeWarning: Columns (7,10) have mixed types. Specify dtype option on import or set low_memory=False.\n",
      "  interactivity=interactivity, compiler=compiler, result=result)\n",
      "/opt/conda/lib/python3.6/site-packages/IPython/core/interactiveshell.py:2785: DtypeWarning: Columns (0) have mixed types. Specify dtype option on import or set low_memory=False.\n",
      "  interactivity=interactivity, compiler=compiler, result=result)\n"
     ]
    }
   ],
   "source": [
    "# Upload de Datasets\n",
    "users_ff = pd.read_csv('users_ff.csv')\n",
    "users_ss1 = pd.read_csv('users_ss1.csv')\n",
    "users_ss2 = pd.read_csv('users_ss2.csv')\n",
    "users_ss3 = pd.read_csv('users_ss3.csv')\n",
    "users_ts = pd.read_csv('users_ts.csv')\n",
    "users_gen = pd.read_csv('users_gen.csv')\n",
    "tweets_ff = pd.read_csv('tweets_ff.csv')\n",
    "tweets_ss1 = pd.read_csv('tweets_ss1.csv')\n",
    "tweets_ss2 = pd.read_csv('tweets_ss2.csv')\n",
    "tweets_ss3 = pd.read_csv('tweets_ss3.csv')\n",
    "tweets_ts = pd.read_csv('tweets_ts.csv')\n",
    "tweets_gen = pd.read_csv('tweets_gen.csv')"
   ]
  },
  {
   "cell_type": "markdown",
   "metadata": {},
   "source": [
    "### Dataset Usuarios"
   ]
  },
  {
   "cell_type": "code",
   "execution_count": 7,
   "metadata": {},
   "outputs": [
    {
     "name": "stderr",
     "output_type": "stream",
     "text": [
      "/opt/conda/lib/python3.6/site-packages/ipykernel_launcher.py:9: FutureWarning: Sorting because non-concatenation axis is not aligned. A future version\n",
      "of pandas will change to not sort by default.\n",
      "\n",
      "To accept the future behavior, pass 'sort=False'.\n",
      "\n",
      "To retain the current behavior and silence the warning, pass 'sort=True'.\n",
      "\n",
      "  if __name__ == '__main__':\n"
     ]
    }
   ],
   "source": [
    "# Agregar columna para categorizar\n",
    "users_ss1['Cat'] = 'SocialSpambot'\n",
    "users_ss2['Cat'] = 'SocialSpambot'\n",
    "users_ss3['Cat'] = 'SocialSpambot'\n",
    "users_ts['Cat'] = 'TraditionalSpambot'\n",
    "users_ff['Cat'] = 'FollowersBot'\n",
    "users_gen['Cat'] = 'Genuine'\n",
    "# Concatenar datasets de Usuarios (SocialSpambots & Traditional Spambots)\n",
    "users_spam = pd.concat([users_ss1,users_ss2,users_ss3,users_ts,users_ff,users_gen],ignore_index=True)"
   ]
  },
  {
   "cell_type": "code",
   "execution_count": 8,
   "metadata": {},
   "outputs": [
    {
     "name": "stdout",
     "output_type": "stream",
     "text": [
      "<class 'pandas.core.frame.DataFrame'>\n",
      "RangeIndex: 12737 entries, 0 to 12736\n",
      "Data columns (total 43 columns):\n",
      "Cat                                   12737 non-null object\n",
      "contributors_enabled                  0 non-null float64\n",
      "crawled_at                            9386 non-null object\n",
      "created_at                            12737 non-null object\n",
      "default_profile                       4404 non-null float64\n",
      "default_profile_image                 66 non-null float64\n",
      "description                           7011 non-null object\n",
      "favourites_count                      12737 non-null int64\n",
      "follow_request_sent                   0 non-null float64\n",
      "followers_count                       12737 non-null int64\n",
      "following                             0 non-null float64\n",
      "friends_count                         12737 non-null int64\n",
      "geo_enabled                           2346 non-null float64\n",
      "id                                    12737 non-null int64\n",
      "is_translator                         1 non-null float64\n",
      "lang                                  11737 non-null object\n",
      "listed_count                          12737 non-null int64\n",
      "location                              6196 non-null object\n",
      "name                                  12736 non-null object\n",
      "notifications                         0 non-null float64\n",
      "profile_background_color              11737 non-null object\n",
      "profile_background_image_url          12737 non-null object\n",
      "profile_background_image_url_https    11737 non-null object\n",
      "profile_background_tile               5421 non-null float64\n",
      "profile_banner_url                    3366 non-null object\n",
      "profile_image_url                     12737 non-null object\n",
      "profile_image_url_https               11737 non-null object\n",
      "profile_link_color                    11737 non-null object\n",
      "profile_sidebar_border_color          11737 non-null object\n",
      "profile_sidebar_fill_color            11737 non-null object\n",
      "profile_text_color                    11737 non-null object\n",
      "profile_use_background_image          11332 non-null float64\n",
      "protected                             78 non-null float64\n",
      "screen_name                           12737 non-null object\n",
      "statuses_count                        12737 non-null int64\n",
      "test_set_1                            4465 non-null float64\n",
      "test_set_2                            3938 non-null float64\n",
      "time_zone                             4030 non-null object\n",
      "timestamp                             9386 non-null object\n",
      "updated                               12737 non-null object\n",
      "url                                   2048 non-null object\n",
      "utc_offset                            4030 non-null float64\n",
      "verified                              11 non-null float64\n",
      "dtypes: float64(15), int64(6), object(22)\n",
      "memory usage: 4.2+ MB\n"
     ]
    }
   ],
   "source": [
    "users_spam.info()"
   ]
  },
  {
   "cell_type": "code",
   "execution_count": 13,
   "metadata": {},
   "outputs": [],
   "source": [
    "# Exportar a pkl\n",
    "# users_spam.to_pickle('users_spam.pkl')"
   ]
  },
  {
   "cell_type": "markdown",
   "metadata": {},
   "source": [
    "### Dataset Tweets"
   ]
  },
  {
   "cell_type": "code",
   "execution_count": 9,
   "metadata": {},
   "outputs": [
    {
     "name": "stderr",
     "output_type": "stream",
     "text": [
      "/opt/conda/lib/python3.6/site-packages/ipykernel_launcher.py:9: FutureWarning: Sorting because non-concatenation axis is not aligned. A future version\n",
      "of pandas will change to not sort by default.\n",
      "\n",
      "To accept the future behavior, pass 'sort=False'.\n",
      "\n",
      "To retain the current behavior and silence the warning, pass 'sort=True'.\n",
      "\n",
      "  if __name__ == '__main__':\n"
     ]
    }
   ],
   "source": [
    "# Agregar columna para categorizar\n",
    "tweets_ss1['Cat'] = 'SocialSpambot'\n",
    "tweets_ss2['Cat'] = 'SocialSpambot'\n",
    "tweets_ss3['Cat'] = 'SocialSpambot'\n",
    "tweets_ts['Cat'] = 'TraditionalSpambot'\n",
    "tweets_ff['Cat'] = 'FollowersBot'\n",
    "tweets_gen['Cat'] = 'Genuine'\n",
    "# Concatenar datasets de Usuarios (SocialSpambots & Traditional Spambots)\n",
    "tweets_spam = pd.concat([tweets_ss1,tweets_ss2,tweets_ss3,tweets_ts,tweets_ff,tweets_gen],ignore_index=True)"
   ]
  },
  {
   "cell_type": "code",
   "execution_count": 10,
   "metadata": {},
   "outputs": [
    {
     "data": {
      "text/plain": [
       "Cat                        6637616\n",
       "contributors                     0\n",
       "crawled_at                 6441588\n",
       "created_at                 6637615\n",
       "favorite_count             6637615\n",
       "favorited                        0\n",
       "geo                              0\n",
       "id                         6637616\n",
       "in_reply_to_screen_name    1039134\n",
       "in_reply_to_status_id      6637615\n",
       "in_reply_to_user_id        6637615\n",
       "num_hashtags               6637615\n",
       "num_mentions               6637615\n",
       "num_urls                   6637615\n",
       "place                       128651\n",
       "possibly_sensitive           26812\n",
       "reply_count                6637615\n",
       "retweet_count              6637615\n",
       "retweeted                        0\n",
       "retweeted_status_id        6441588\n",
       "source                     6637543\n",
       "text                       6624609\n",
       "timestamp                  6637615\n",
       "truncated                      753\n",
       "updated                    6441588\n",
       "user_id                    6637615\n",
       "dtype: int64"
      ]
     },
     "execution_count": 10,
     "metadata": {},
     "output_type": "execute_result"
    }
   ],
   "source": [
    "# Contar valores no nulos por columna\n",
    "tweets_spam.notna().sum()"
   ]
  },
  {
   "cell_type": "code",
   "execution_count": 14,
   "metadata": {},
   "outputs": [],
   "source": [
    "# Exportar a pkl\n",
    "# tweets_spam.to_pickle('tweets_spam.pkl')"
   ]
  }
 ],
 "metadata": {
  "kernelspec": {
   "display_name": "Python 3",
   "language": "python",
   "name": "python3"
  },
  "language_info": {
   "codemirror_mode": {
    "name": "ipython",
    "version": 3
   },
   "file_extension": ".py",
   "mimetype": "text/x-python",
   "name": "python",
   "nbconvert_exporter": "python",
   "pygments_lexer": "ipython3",
   "version": "3.6.6"
  }
 },
 "nbformat": 4,
 "nbformat_minor": 2
}
