{
 "cells": [
  {
   "cell_type": "code",
   "execution_count": 4,
   "metadata": {},
   "outputs": [],
   "source": [
    "import pandas as pd\n",
    "import numpy as np\n",
    "from sklearn.model_selection import train_test_split\n",
    "from IPython.display import Image\n",
    "from sklearn.tree import export_graphviz\n",
    "# import pydotplus\n",
    "from sklearn import preprocessing"
   ]
  },
  {
   "cell_type": "code",
   "execution_count": 5,
   "metadata": {},
   "outputs": [],
   "source": [
    "users = pd.read_pickle('users.pkl')"
   ]
  },
  {
   "cell_type": "code",
   "execution_count": 6,
   "metadata": {},
   "outputs": [
    {
     "name": "stdout",
     "output_type": "stream",
     "text": [
      "<class 'pandas.core.frame.DataFrame'>\n",
      "Int64Index: 5995 entries, 0 to 8381\n",
      "Data columns (total 35 columns):\n",
      "Cat                                   5995 non-null object\n",
      "bot                                   5995 non-null bool\n",
      "crawled_at                            5995 non-null datetime64[ns]\n",
      "created_at                            5995 non-null object\n",
      "default_profile                       5995 non-null float64\n",
      "description                           5995 non-null bool\n",
      "geo_enabled                           5995 non-null bool\n",
      "id                                    5995 non-null int64\n",
      "lang                                  5995 non-null bool\n",
      "listed_count                          5995 non-null int64\n",
      "location                              5995 non-null bool\n",
      "name                                  5995 non-null bool\n",
      "profile_background_color              5995 non-null bool\n",
      "profile_background_image_url          5995 non-null bool\n",
      "profile_background_image_url_https    5995 non-null bool\n",
      "profile_background_tile               5995 non-null bool\n",
      "profile_banner_url                    5995 non-null bool\n",
      "profile_image_url                     5995 non-null bool\n",
      "profile_image_url_https               5995 non-null bool\n",
      "profile_link_color                    5995 non-null bool\n",
      "profile_sidebar_border_color          5995 non-null bool\n",
      "profile_sidebar_fill_color            5995 non-null bool\n",
      "profile_text_color                    5995 non-null bool\n",
      "profile_use_background_image          5995 non-null bool\n",
      "screen_name                           5995 non-null bool\n",
      "time_zone                             2040 non-null object\n",
      "timestamp                             5995 non-null datetime64[ns]\n",
      "updated                               5995 non-null datetime64[ns]\n",
      "url                                   5995 non-null bool\n",
      "utc_offset                            2040 non-null float64\n",
      "tweet_count                           5995 non-null float64\n",
      "favs_tiempo                           5995 non-null float64\n",
      "followers_tiempo                      5995 non-null float64\n",
      "statuses_tiempo                       5995 non-null float64\n",
      "friends_tiempo                        5995 non-null float64\n",
      "dtypes: bool(20), datetime64[ns](3), float64(7), int64(2), object(3)\n",
      "memory usage: 866.5+ KB\n"
     ]
    }
   ],
   "source": [
    "users.info()"
   ]
  },
  {
   "cell_type": "code",
   "execution_count": 7,
   "metadata": {},
   "outputs": [
    {
     "data": {
      "text/plain": [
       "Index(['Cat', 'bot', 'crawled_at', 'created_at', 'default_profile',\n",
       "       'description', 'geo_enabled', 'id', 'lang', 'listed_count', 'location',\n",
       "       'name', 'profile_background_color', 'profile_background_image_url',\n",
       "       'profile_background_image_url_https', 'profile_background_tile',\n",
       "       'profile_banner_url', 'profile_image_url', 'profile_image_url_https',\n",
       "       'profile_link_color', 'profile_sidebar_border_color',\n",
       "       'profile_sidebar_fill_color', 'profile_text_color',\n",
       "       'profile_use_background_image', 'screen_name', 'time_zone', 'timestamp',\n",
       "       'updated', 'url', 'utc_offset', 'tweet_count', 'favs_tiempo',\n",
       "       'followers_tiempo', 'statuses_tiempo', 'friends_tiempo'],\n",
       "      dtype='object')"
      ]
     },
     "execution_count": 7,
     "metadata": {},
     "output_type": "execute_result"
    }
   ],
   "source": [
    "users.columns"
   ]
  },
  {
   "cell_type": "code",
   "execution_count": 8,
   "metadata": {},
   "outputs": [],
   "source": [
    "# Quedarnos solamente con las Categorias para modelar\n",
    "#users = users[(users.Cat=='SocialSpambot1') | (users.Cat=='Humans')]"
   ]
  },
  {
   "cell_type": "code",
   "execution_count": 9,
   "metadata": {},
   "outputs": [],
   "source": [
    "# Eliminar columnas no utilizables\n",
    "users = users[['Cat', 'default_profile', 'description', 'geo_enabled', 'lang', 'listed_count', 'location', 'name', 'profile_background_color', 'profile_background_image_url', 'profile_background_image_url_https', 'profile_background_tile', 'profile_banner_url', 'profile_image_url', 'profile_image_url_https', 'profile_link_color', 'profile_sidebar_border_color', 'profile_sidebar_fill_color', 'profile_text_color', 'profile_use_background_image', 'screen_name', 'url','favs_tiempo','followers_tiempo', 'statuses_tiempo','friends_tiempo']]"
   ]
  },
  {
   "cell_type": "code",
   "execution_count": 10,
   "metadata": {},
   "outputs": [
    {
     "data": {
      "text/plain": [
       "Cat                                   0\n",
       "default_profile                       0\n",
       "description                           0\n",
       "geo_enabled                           0\n",
       "lang                                  0\n",
       "listed_count                          0\n",
       "location                              0\n",
       "name                                  0\n",
       "profile_background_color              0\n",
       "profile_background_image_url          0\n",
       "profile_background_image_url_https    0\n",
       "profile_background_tile               0\n",
       "profile_banner_url                    0\n",
       "profile_image_url                     0\n",
       "profile_image_url_https               0\n",
       "profile_link_color                    0\n",
       "profile_sidebar_border_color          0\n",
       "profile_sidebar_fill_color            0\n",
       "profile_text_color                    0\n",
       "profile_use_background_image          0\n",
       "screen_name                           0\n",
       "url                                   0\n",
       "favs_tiempo                           0\n",
       "followers_tiempo                      0\n",
       "statuses_tiempo                       0\n",
       "friends_tiempo                        0\n",
       "dtype: int64"
      ]
     },
     "execution_count": 10,
     "metadata": {},
     "output_type": "execute_result"
    }
   ],
   "source": [
    "users.isnull().sum()"
   ]
  },
  {
   "cell_type": "code",
   "execution_count": 11,
   "metadata": {
    "scrolled": true
   },
   "outputs": [],
   "source": [
    "# Encodear todos los atributos categóricos como booleanos usando pd.get_dummies\n",
    "X = pd.get_dummies(users.drop('Cat', axis=1))\n",
    "atributos = X.columns"
   ]
  },
  {
   "cell_type": "code",
   "execution_count": 12,
   "metadata": {},
   "outputs": [],
   "source": [
    "X = preprocessing.scale(X, axis = 0)"
   ]
  },
  {
   "cell_type": "code",
   "execution_count": 13,
   "metadata": {},
   "outputs": [],
   "source": [
    "# Encodear las etiquetas usando LabelEncoder\n",
    "from sklearn.preprocessing import LabelEncoder\n",
    "le = LabelEncoder()\n",
    "y = le.fit_transform(users['Cat'])"
   ]
  },
  {
   "cell_type": "code",
   "execution_count": 14,
   "metadata": {},
   "outputs": [],
   "source": [
    "# Dividir X e y con train_test_split\n",
    "X_train, X_test, y_train, y_test = train_test_split(X, y, test_size=0.3, random_state=42)"
   ]
  },
  {
   "cell_type": "code",
   "execution_count": 15,
   "metadata": {},
   "outputs": [
    {
     "data": {
      "text/plain": [
       "DecisionTreeClassifier(class_weight=None, criterion='gini', max_depth=5,\n",
       "            max_features=None, max_leaf_nodes=None,\n",
       "            min_impurity_decrease=0.0, min_impurity_split=None,\n",
       "            min_samples_leaf=1, min_samples_split=2,\n",
       "            min_weight_fraction_leaf=0.0, presort=False, random_state=1,\n",
       "            splitter='best')"
      ]
     },
     "execution_count": 15,
     "metadata": {},
     "output_type": "execute_result"
    }
   ],
   "source": [
    "# Ajustar un árbol de clasificación con max_depth=3\n",
    "from sklearn.tree import DecisionTreeClassifier\n",
    "treeclf = DecisionTreeClassifier(max_depth=5, random_state=1)\n",
    "treeclf.fit(X_train, y_train)"
   ]
  },
  {
   "cell_type": "code",
   "execution_count": 16,
   "metadata": {},
   "outputs": [
    {
     "ename": "NameError",
     "evalue": "name 'pydotplus' is not defined",
     "output_type": "error",
     "traceback": [
      "\u001b[1;31m---------------------------------------------------------------------------\u001b[0m",
      "\u001b[1;31mNameError\u001b[0m                                 Traceback (most recent call last)",
      "\u001b[1;32m<ipython-input-16-ac4ecd7d5a75>\u001b[0m in \u001b[0;36m<module>\u001b[1;34m()\u001b[0m\n\u001b[0;32m      4\u001b[0m                 \u001b[0mfilled\u001b[0m\u001b[1;33m=\u001b[0m\u001b[1;32mTrue\u001b[0m\u001b[1;33m,\u001b[0m \u001b[0mrounded\u001b[0m\u001b[1;33m=\u001b[0m\u001b[1;32mTrue\u001b[0m\u001b[1;33m,\u001b[0m\u001b[1;33m\u001b[0m\u001b[0m\n\u001b[0;32m      5\u001b[0m                 special_characters=True)  \n\u001b[1;32m----> 6\u001b[1;33m \u001b[0mgraph\u001b[0m \u001b[1;33m=\u001b[0m \u001b[0mpydotplus\u001b[0m\u001b[1;33m.\u001b[0m\u001b[0mgraph_from_dot_data\u001b[0m\u001b[1;33m(\u001b[0m\u001b[0mdot_data\u001b[0m\u001b[1;33m)\u001b[0m\u001b[1;33m\u001b[0m\u001b[0m\n\u001b[0m\u001b[0;32m      7\u001b[0m \u001b[0mImage\u001b[0m\u001b[1;33m(\u001b[0m\u001b[0mgraph\u001b[0m\u001b[1;33m.\u001b[0m\u001b[0mcreate_png\u001b[0m\u001b[1;33m(\u001b[0m\u001b[1;33m)\u001b[0m\u001b[1;33m)\u001b[0m\u001b[1;33m\u001b[0m\u001b[0m\n",
      "\u001b[1;31mNameError\u001b[0m: name 'pydotplus' is not defined"
     ]
    }
   ],
   "source": [
    "# Visualizar el árbol usando graphviz\n",
    "dot_data = export_graphviz(treeclf, out_file=None,  \n",
    "                feature_names=atributos,  \n",
    "                filled=True, rounded=True,  \n",
    "                special_characters=True)  \n",
    "graph = pydotplus.graph_from_dot_data(dot_data)\n",
    "Image(graph.create_png())"
   ]
  },
  {
   "cell_type": "code",
   "execution_count": 17,
   "metadata": {},
   "outputs": [
    {
     "data": {
      "text/html": [
       "<div>\n",
       "<style scoped>\n",
       "    .dataframe tbody tr th:only-of-type {\n",
       "        vertical-align: middle;\n",
       "    }\n",
       "\n",
       "    .dataframe tbody tr th {\n",
       "        vertical-align: top;\n",
       "    }\n",
       "\n",
       "    .dataframe thead th {\n",
       "        text-align: right;\n",
       "    }\n",
       "</style>\n",
       "<table border=\"1\" class=\"dataframe\">\n",
       "  <thead>\n",
       "    <tr style=\"text-align: right;\">\n",
       "      <th></th>\n",
       "      <th>Atributo</th>\n",
       "      <th>importancia</th>\n",
       "    </tr>\n",
       "  </thead>\n",
       "  <tbody>\n",
       "    <tr>\n",
       "      <th>21</th>\n",
       "      <td>favs_tiempo</td>\n",
       "      <td>0.488400</td>\n",
       "    </tr>\n",
       "    <tr>\n",
       "      <th>23</th>\n",
       "      <td>statuses_tiempo</td>\n",
       "      <td>0.339520</td>\n",
       "    </tr>\n",
       "    <tr>\n",
       "      <th>22</th>\n",
       "      <td>followers_tiempo</td>\n",
       "      <td>0.142839</td>\n",
       "    </tr>\n",
       "    <tr>\n",
       "      <th>24</th>\n",
       "      <td>friends_tiempo</td>\n",
       "      <td>0.022021</td>\n",
       "    </tr>\n",
       "    <tr>\n",
       "      <th>4</th>\n",
       "      <td>listed_count</td>\n",
       "      <td>0.003032</td>\n",
       "    </tr>\n",
       "    <tr>\n",
       "      <th>10</th>\n",
       "      <td>profile_background_tile</td>\n",
       "      <td>0.002513</td>\n",
       "    </tr>\n",
       "    <tr>\n",
       "      <th>11</th>\n",
       "      <td>profile_banner_url</td>\n",
       "      <td>0.001253</td>\n",
       "    </tr>\n",
       "    <tr>\n",
       "      <th>2</th>\n",
       "      <td>geo_enabled</td>\n",
       "      <td>0.000422</td>\n",
       "    </tr>\n",
       "    <tr>\n",
       "      <th>15</th>\n",
       "      <td>profile_sidebar_border_color</td>\n",
       "      <td>0.000000</td>\n",
       "    </tr>\n",
       "    <tr>\n",
       "      <th>20</th>\n",
       "      <td>url</td>\n",
       "      <td>0.000000</td>\n",
       "    </tr>\n",
       "    <tr>\n",
       "      <th>19</th>\n",
       "      <td>screen_name</td>\n",
       "      <td>0.000000</td>\n",
       "    </tr>\n",
       "    <tr>\n",
       "      <th>18</th>\n",
       "      <td>profile_use_background_image</td>\n",
       "      <td>0.000000</td>\n",
       "    </tr>\n",
       "    <tr>\n",
       "      <th>17</th>\n",
       "      <td>profile_text_color</td>\n",
       "      <td>0.000000</td>\n",
       "    </tr>\n",
       "    <tr>\n",
       "      <th>16</th>\n",
       "      <td>profile_sidebar_fill_color</td>\n",
       "      <td>0.000000</td>\n",
       "    </tr>\n",
       "    <tr>\n",
       "      <th>0</th>\n",
       "      <td>default_profile</td>\n",
       "      <td>0.000000</td>\n",
       "    </tr>\n",
       "    <tr>\n",
       "      <th>14</th>\n",
       "      <td>profile_link_color</td>\n",
       "      <td>0.000000</td>\n",
       "    </tr>\n",
       "    <tr>\n",
       "      <th>13</th>\n",
       "      <td>profile_image_url_https</td>\n",
       "      <td>0.000000</td>\n",
       "    </tr>\n",
       "    <tr>\n",
       "      <th>1</th>\n",
       "      <td>description</td>\n",
       "      <td>0.000000</td>\n",
       "    </tr>\n",
       "    <tr>\n",
       "      <th>9</th>\n",
       "      <td>profile_background_image_url_https</td>\n",
       "      <td>0.000000</td>\n",
       "    </tr>\n",
       "    <tr>\n",
       "      <th>8</th>\n",
       "      <td>profile_background_image_url</td>\n",
       "      <td>0.000000</td>\n",
       "    </tr>\n",
       "    <tr>\n",
       "      <th>7</th>\n",
       "      <td>profile_background_color</td>\n",
       "      <td>0.000000</td>\n",
       "    </tr>\n",
       "    <tr>\n",
       "      <th>6</th>\n",
       "      <td>name</td>\n",
       "      <td>0.000000</td>\n",
       "    </tr>\n",
       "    <tr>\n",
       "      <th>5</th>\n",
       "      <td>location</td>\n",
       "      <td>0.000000</td>\n",
       "    </tr>\n",
       "    <tr>\n",
       "      <th>3</th>\n",
       "      <td>lang</td>\n",
       "      <td>0.000000</td>\n",
       "    </tr>\n",
       "    <tr>\n",
       "      <th>12</th>\n",
       "      <td>profile_image_url</td>\n",
       "      <td>0.000000</td>\n",
       "    </tr>\n",
       "  </tbody>\n",
       "</table>\n",
       "</div>"
      ],
      "text/plain": [
       "                              Atributo  importancia\n",
       "21                         favs_tiempo     0.488400\n",
       "23                     statuses_tiempo     0.339520\n",
       "22                    followers_tiempo     0.142839\n",
       "24                      friends_tiempo     0.022021\n",
       "4                         listed_count     0.003032\n",
       "10             profile_background_tile     0.002513\n",
       "11                  profile_banner_url     0.001253\n",
       "2                          geo_enabled     0.000422\n",
       "15        profile_sidebar_border_color     0.000000\n",
       "20                                 url     0.000000\n",
       "19                         screen_name     0.000000\n",
       "18        profile_use_background_image     0.000000\n",
       "17                  profile_text_color     0.000000\n",
       "16          profile_sidebar_fill_color     0.000000\n",
       "0                      default_profile     0.000000\n",
       "14                  profile_link_color     0.000000\n",
       "13             profile_image_url_https     0.000000\n",
       "1                          description     0.000000\n",
       "9   profile_background_image_url_https     0.000000\n",
       "8         profile_background_image_url     0.000000\n",
       "7             profile_background_color     0.000000\n",
       "6                                 name     0.000000\n",
       "5                             location     0.000000\n",
       "3                                 lang     0.000000\n",
       "12                   profile_image_url     0.000000"
      ]
     },
     "execution_count": 17,
     "metadata": {},
     "output_type": "execute_result"
    }
   ],
   "source": [
    "# Calcular la importancia de los atributos\n",
    "pd.DataFrame({'Atributo':atributos,\n",
    "              'importancia':treeclf.feature_importances_}).sort_values('importancia',\n",
    "                                                                      ascending=False)"
   ]
  },
  {
   "cell_type": "code",
   "execution_count": 18,
   "metadata": {},
   "outputs": [
    {
     "data": {
      "text/html": [
       "<div>\n",
       "<style scoped>\n",
       "    .dataframe tbody tr th:only-of-type {\n",
       "        vertical-align: middle;\n",
       "    }\n",
       "\n",
       "    .dataframe tbody tr th {\n",
       "        vertical-align: top;\n",
       "    }\n",
       "\n",
       "    .dataframe thead th {\n",
       "        text-align: right;\n",
       "    }\n",
       "</style>\n",
       "<table border=\"1\" class=\"dataframe\">\n",
       "  <thead>\n",
       "    <tr style=\"text-align: right;\">\n",
       "      <th></th>\n",
       "      <th>pred_Humans</th>\n",
       "      <th>pred_SocialSpambot1</th>\n",
       "      <th>pred_SocialSpambot2</th>\n",
       "      <th>pred_SocialSpambot3</th>\n",
       "    </tr>\n",
       "  </thead>\n",
       "  <tbody>\n",
       "    <tr>\n",
       "      <th>Humans</th>\n",
       "      <td>300</td>\n",
       "      <td>2</td>\n",
       "      <td>1</td>\n",
       "      <td>3</td>\n",
       "    </tr>\n",
       "    <tr>\n",
       "      <th>SocialSpambot1</th>\n",
       "      <td>7</td>\n",
       "      <td>309</td>\n",
       "      <td>3</td>\n",
       "      <td>4</td>\n",
       "    </tr>\n",
       "    <tr>\n",
       "      <th>SocialSpambot2</th>\n",
       "      <td>3</td>\n",
       "      <td>4</td>\n",
       "      <td>1032</td>\n",
       "      <td>2</td>\n",
       "    </tr>\n",
       "    <tr>\n",
       "      <th>SocialSpambot3</th>\n",
       "      <td>4</td>\n",
       "      <td>7</td>\n",
       "      <td>2</td>\n",
       "      <td>116</td>\n",
       "    </tr>\n",
       "  </tbody>\n",
       "</table>\n",
       "</div>"
      ],
      "text/plain": [
       "                pred_Humans  pred_SocialSpambot1  pred_SocialSpambot2  \\\n",
       "Humans                  300                    2                    1   \n",
       "SocialSpambot1            7                  309                    3   \n",
       "SocialSpambot2            3                    4                 1032   \n",
       "SocialSpambot3            4                    7                    2   \n",
       "\n",
       "                pred_SocialSpambot3  \n",
       "Humans                            3  \n",
       "SocialSpambot1                    4  \n",
       "SocialSpambot2                    2  \n",
       "SocialSpambot3                  116  "
      ]
     },
     "execution_count": 18,
     "metadata": {},
     "output_type": "execute_result"
    }
   ],
   "source": [
    "# Calcular y mostrar la matriz de confusión\n",
    "from sklearn.metrics import confusion_matrix\n",
    "conf = confusion_matrix(y_test, treeclf.predict(X_test))\n",
    "predicted_cols = ['pred_'+c for c in le.classes_]\n",
    "pd.DataFrame(conf, index = le.classes_, columns = predicted_cols)"
   ]
  }
 ],
 "metadata": {
  "kernelspec": {
   "display_name": "Python 3",
   "language": "python",
   "name": "python3"
  },
  "language_info": {
   "codemirror_mode": {
    "name": "ipython",
    "version": 3
   },
   "file_extension": ".py",
   "mimetype": "text/x-python",
   "name": "python",
   "nbconvert_exporter": "python",
   "pygments_lexer": "ipython3",
   "version": "3.6.5"
  }
 },
 "nbformat": 4,
 "nbformat_minor": 2
}
