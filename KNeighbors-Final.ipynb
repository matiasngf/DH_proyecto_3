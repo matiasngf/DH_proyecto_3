{
 "cells": [
  {
   "cell_type": "code",
   "execution_count": 8,
   "metadata": {},
   "outputs": [],
   "source": [
    "import pandas as pd\n",
    "import numpy as np\n",
    "from sklearn.model_selection import train_test_split\n",
    "from sklearn.neighbors import KNeighborsClassifier\n",
    "from sklearn.metrics import confusion_matrix, classification_report\n",
    "from sklearn import preprocessing\n",
    "from sklearn.model_selection import cross_val_score,StratifiedKFold\n",
    "from sklearn.model_selection import train_test_split\n",
    "import seaborn as sns\n",
    "import matplotlib.pyplot as plt\n",
    "%matplotlib inline\n",
    "from sklearn.metrics import confusion_matrix\n",
    "from sklearn.model_selection import cross_val_score,StratifiedKFold\n",
    "from sklearn.ensemble import RandomForestClassifier\n",
    "from IPython.display import Image\n",
    "from sklearn.tree import export_graphviz\n",
    "import pydotplus\n",
    "from sklearn import preprocessing\n",
    "from sklearn.model_selection import GridSearchCV, RandomizedSearchCV"
   ]
  },
  {
   "cell_type": "code",
   "execution_count": 26,
   "metadata": {},
   "outputs": [],
   "source": [
    "# Importar Datasets\n",
    "users_original = pd.read_pickle('users.pkl')\n",
    "users_featnue = pd.read_csv('features_generadas.csv')"
   ]
  },
  {
   "cell_type": "code",
   "execution_count": 27,
   "metadata": {},
   "outputs": [],
   "source": [
    "# Quedarnos solo con las columnas utilizables\n",
    "users_original = users_original[['Cat','bot','default_profile', 'description', 'geo_enabled', 'lang', 'listed_count', 'location', 'name', 'profile_background_color', 'profile_background_image_url', 'profile_background_image_url_https', 'profile_background_tile', 'profile_banner_url', 'profile_image_url', 'profile_image_url_https', 'profile_link_color', 'profile_sidebar_border_color', 'profile_sidebar_fill_color', 'profile_text_color', 'profile_use_background_image', 'screen_name', 'url','favs_tiempo','followers_tiempo', 'statuses_tiempo','friends_tiempo']]\n",
    "users_featnue.drop(['user_id.1','tweetsCount', 'semanas'], axis=1,inplace=True)\n",
    "# Rellenar valores vacíos\n",
    "users_featnue = users_featnue.fillna(0)"
   ]
  },
  {
   "cell_type": "code",
   "execution_count": 28,
   "metadata": {},
   "outputs": [],
   "source": [
    "# Generar ejes X de features y Normalizarlo\n",
    "X_o = users_original.drop(columns=['Cat','bot'])[users_original.Cat!='SocialSpambot1']\n",
    "atributos_o = X_o.columns\n",
    "X_o = preprocessing.scale(X_o, axis = 0)\n",
    "\n",
    "X_n = users_featnue.drop(columns=['Cat','bot','user_id'])[users_featnue.Cat!='SocialSpambot1']\n",
    "atributos_n = X_n.columns\n",
    "X_n = preprocessing.scale(X_n, axis = 0)\n",
    "\n",
    "X_ot = users_original.drop(columns=['Cat','bot'])[users_original.Cat=='SocialSpambot1']\n",
    "atributos_o = X_ot.columns\n",
    "X_ot = preprocessing.scale(X_ot, axis = 0)\n",
    "\n",
    "X_nt = users_featnue.drop(columns=['Cat','bot','user_id'])[users_featnue.Cat=='SocialSpambot1']\n",
    "atributos_n = X_nt.columns\n",
    "X_nt = preprocessing.scale(X_nt, axis = 0)"
   ]
  },
  {
   "cell_type": "code",
   "execution_count": 81,
   "metadata": {},
   "outputs": [],
   "source": [
    "# Generar ejes Y de targets y encodear las etiquetas\n",
    "le = preprocessing.LabelEncoder()\n",
    "y_o =  le.fit_transform(users_original['bot'][users_original.Cat!='SocialSpambot1'])\n",
    "y_n =  le.fit_transform(users_featnue['bot'][users_featnue.Cat!='SocialSpambot1'])\n",
    "y_ot =  le.fit_transform(users_original['bot'][users_original.Cat=='SocialSpambot1'])\n",
    "y_nt =  le.fit_transform(users_featnue['bot'][users_featnue.Cat=='SocialSpambot1'])\n",
    "y_ot = np.where(y_ot==0, 1, 0)\n",
    "y_nt = np.where(y_nt==0, 1, 0)"
   ]
  },
  {
   "cell_type": "code",
   "execution_count": 37,
   "metadata": {},
   "outputs": [],
   "source": [
    "# Separar entre train y test\n",
    "X_train_o, X_test_o, y_train_o, y_test_o = train_test_split(X_o,y_o)\n",
    "X_train_n, X_test_n, y_train_n, y_test_n = train_test_split(X_n,y_n)"
   ]
  },
  {
   "cell_type": "code",
   "execution_count": 98,
   "metadata": {},
   "outputs": [],
   "source": [
    "# Crear loop para probar n neighbors \n",
    "scores_para_df = []\n",
    "for i in range(20,100,1):  # de 1 a 10 Kn con steps de 1\n",
    "    # En cada iteración instanciamos el modelo con un hiperparámetro distinto\n",
    "    model = KNeighborsClassifier(n_neighbors=i)\n",
    "    # cross_val_scores nos devuelve un array de 5 resultados, uno por cada partición que hizo automáticamente CV  \n",
    "    cv_scores = cross_val_score(model, X_n, y_n, cv=5)\n",
    "    # Para cada valor de n_neighbours, creo un diccionario con el valor de n_neighbours y la media y el desvío de los scores.\n",
    "    dict_row_score = {'score_medio':np.mean(cv_scores),'score_std':np.std(cv_scores),'n_neighbours':i}\n",
    "    # Guardo cada uno en la lista de diccionarios\n",
    "    scores_para_df.append(dict_row_score)"
   ]
  },
  {
   "cell_type": "code",
   "execution_count": 97,
   "metadata": {},
   "outputs": [
    {
     "data": {
      "text/plain": [
       "KNeighborsClassifier(algorithm='auto', leaf_size=30, metric='minkowski',\n",
       "           metric_params=None, n_jobs=1, n_neighbors=45, p=2,\n",
       "           weights='uniform')"
      ]
     },
     "execution_count": 97,
     "metadata": {},
     "output_type": "execute_result"
    }
   ],
   "source": [
    "# Modelo Original\n",
    "model_o = KNeighborsClassifier(n_neighbors=45)\n",
    "model_o.fit(X_train_o,y_train_o)"
   ]
  },
  {
   "cell_type": "code",
   "execution_count": 100,
   "metadata": {},
   "outputs": [
    {
     "data": {
      "text/plain": [
       "KNeighborsClassifier(algorithm='auto', leaf_size=30, metric='minkowski',\n",
       "           metric_params=None, n_jobs=1, n_neighbors=92, p=2,\n",
       "           weights='uniform')"
      ]
     },
     "execution_count": 100,
     "metadata": {},
     "output_type": "execute_result"
    }
   ],
   "source": [
    "#Modelo Features Nuevas\n",
    "model_n = KNeighborsClassifier(n_neighbors=92)\n",
    "model_n.fit(X_train_n,y_train_n)"
   ]
  },
  {
   "cell_type": "code",
   "execution_count": 102,
   "metadata": {},
   "outputs": [],
   "source": [
    "# Predecir valores de test\n",
    "y_pred_o = model_o.predict(X_test_o)\n",
    "y_pred_n = model_n.predict(X_test_n)\n",
    "y_pred_ot = model_o.predict(X_ot)\n",
    "y_pred_nt = model_n.predict(X_nt)"
   ]
  },
  {
   "cell_type": "code",
   "execution_count": 104,
   "metadata": {},
   "outputs": [
    {
     "name": "stdout",
     "output_type": "stream",
     "text": [
      "Modelo Original en Test:  0.9808153477218226\n",
      "Modelo Nuevas Features en Test:  0.9624300559552358\n",
      "Modelo orig sin SSB1 en Test:  0.9303733602421796\n",
      "Modelo nuevo sin SSB1 en Test:  0.9505549949545913\n"
     ]
    }
   ],
   "source": [
    "# Calculamos el accuracy general del modelo\n",
    "from sklearn.metrics import accuracy_score\n",
    "print(\"Modelo Original en Test: \",accuracy_score(y_test_o, y_pred_o))\n",
    "print(\"Modelo Nuevas Features en Test: \",accuracy_score(y_test_n, y_pred_n))\n",
    "print(\"Modelo orig sin SSB1 en Test: \",accuracy_score(y_ot, y_pred_ot))\n",
    "print(\"Modelo nuevo sin SSB1 en Test: \",accuracy_score(y_nt, y_pred_nt))"
   ]
  },
  {
   "cell_type": "code",
   "execution_count": 107,
   "metadata": {},
   "outputs": [
    {
     "data": {
      "text/plain": [
       "array([[272,  13],\n",
       "       [ 11, 955]])"
      ]
     },
     "execution_count": 107,
     "metadata": {},
     "output_type": "execute_result"
    }
   ],
   "source": [
    "# Matriz de confusión con Modelo con Features Nuevas\n",
    "confusion_matrix(y_test_o, y_pred_o)"
   ]
  },
  {
   "cell_type": "code",
   "execution_count": 108,
   "metadata": {},
   "outputs": [
    {
     "data": {
      "text/plain": [
       "array([[257,  15],\n",
       "       [ 32, 947]])"
      ]
     },
     "execution_count": 108,
     "metadata": {},
     "output_type": "execute_result"
    }
   ],
   "source": [
    "# Matriz de confusión con Modelo con Features Nuevas\n",
    "confusion_matrix(y_test_n, y_pred_n)"
   ]
  },
  {
   "cell_type": "code",
   "execution_count": 110,
   "metadata": {},
   "outputs": [
    {
     "data": {
      "text/plain": [
       "array([[  0,   0],\n",
       "       [ 69, 922]])"
      ]
     },
     "execution_count": 110,
     "metadata": {},
     "output_type": "execute_result"
    }
   ],
   "source": [
    "# Matriz de confusión con Modelo con Features Nuevas\n",
    "confusion_matrix(y_ot, y_pred_ot)"
   ]
  },
  {
   "cell_type": "code",
   "execution_count": 113,
   "metadata": {},
   "outputs": [
    {
     "data": {
      "text/plain": [
       "array([[  0,   0],\n",
       "       [ 49, 942]])"
      ]
     },
     "execution_count": 113,
     "metadata": {},
     "output_type": "execute_result"
    }
   ],
   "source": [
    "# Matriz de confusión con Modelo con Features Nuevas\n",
    "confusion_matrix(y_nt, y_pred_nt)"
   ]
  },
  {
   "cell_type": "code",
   "execution_count": 115,
   "metadata": {},
   "outputs": [
    {
     "name": "stdout",
     "output_type": "stream",
     "text": [
      "             precision    recall  f1-score   support\n",
      "\n",
      "          0       0.00      0.00      0.00         0\n",
      "          1       1.00      0.95      0.97       991\n",
      "\n",
      "avg / total       1.00      0.95      0.97       991\n",
      "\n"
     ]
    },
    {
     "name": "stderr",
     "output_type": "stream",
     "text": [
      "/opt/conda/lib/python3.6/site-packages/sklearn/metrics/classification.py:1137: UndefinedMetricWarning: Recall and F-score are ill-defined and being set to 0.0 in labels with no true samples.\n",
      "  'recall', 'true', average, warn_for)\n"
     ]
    }
   ],
   "source": [
    "# Scores con Modelo con Features Nuevas\n",
    "print(classification_report(y_nt, y_pred_nt))"
   ]
  },
  {
   "cell_type": "code",
   "execution_count": 116,
   "metadata": {},
   "outputs": [
    {
     "name": "stdout",
     "output_type": "stream",
     "text": [
      "             precision    recall  f1-score   support\n",
      "\n",
      "          0       0.89      0.94      0.92       272\n",
      "          1       0.98      0.97      0.98       979\n",
      "\n",
      "avg / total       0.96      0.96      0.96      1251\n",
      "\n"
     ]
    }
   ],
   "source": [
    "# Scores con Modelo con Features Nuevas\n",
    "print(classification_report(y_test_n, y_pred_n))"
   ]
  },
  {
   "cell_type": "code",
   "execution_count": 118,
   "metadata": {},
   "outputs": [],
   "source": [
    "predicted_cols = ['pred_'+str(c) for c in le.classes_]"
   ]
  },
  {
   "cell_type": "code",
   "execution_count": 130,
   "metadata": {},
   "outputs": [
    {
     "data": {
      "text/plain": [
       "array([[257,  15],\n",
       "       [ 32, 947]])"
      ]
     },
     "execution_count": 130,
     "metadata": {},
     "output_type": "execute_result"
    }
   ],
   "source": [
    "confusion_matrix(y_test_n, y_pred_n)"
   ]
  },
  {
   "cell_type": "code",
   "execution_count": 135,
   "metadata": {},
   "outputs": [
    {
     "data": {
      "text/html": [
       "<div>\n",
       "<style scoped>\n",
       "    .dataframe tbody tr th:only-of-type {\n",
       "        vertical-align: middle;\n",
       "    }\n",
       "\n",
       "    .dataframe tbody tr th {\n",
       "        vertical-align: top;\n",
       "    }\n",
       "\n",
       "    .dataframe thead th {\n",
       "        text-align: right;\n",
       "    }\n",
       "</style>\n",
       "<table border=\"1\" class=\"dataframe\">\n",
       "  <thead>\n",
       "    <tr style=\"text-align: right;\">\n",
       "      <th></th>\n",
       "      <th>pred_Human</th>\n",
       "      <th>pred_Bot</th>\n",
       "    </tr>\n",
       "  </thead>\n",
       "  <tbody>\n",
       "    <tr>\n",
       "      <th>real_Human</th>\n",
       "      <td>0</td>\n",
       "      <td>0</td>\n",
       "    </tr>\n",
       "    <tr>\n",
       "      <th>real_Bot</th>\n",
       "      <td>49</td>\n",
       "      <td>942</td>\n",
       "    </tr>\n",
       "  </tbody>\n",
       "</table>\n",
       "</div>"
      ],
      "text/plain": [
       "            pred_Human  pred_Bot\n",
       "real_Human           0         0\n",
       "real_Bot            49       942"
      ]
     },
     "execution_count": 135,
     "metadata": {},
     "output_type": "execute_result"
    }
   ],
   "source": [
    "conf = confusion_matrix(y_nt, y_pred_nt)\n",
    "predicted_cols = ['pred_'+str(c) for c in le.classes_]\n",
    "pd.DataFrame(conf, index= ['real_Human','real_Bot'],columns = ['pred_Human','pred_Bot'])"
   ]
  },
  {
   "cell_type": "code",
   "execution_count": 137,
   "metadata": {},
   "outputs": [
    {
     "data": {
      "text/html": [
       "<div>\n",
       "<style scoped>\n",
       "    .dataframe tbody tr th:only-of-type {\n",
       "        vertical-align: middle;\n",
       "    }\n",
       "\n",
       "    .dataframe tbody tr th {\n",
       "        vertical-align: top;\n",
       "    }\n",
       "\n",
       "    .dataframe thead th {\n",
       "        text-align: right;\n",
       "    }\n",
       "</style>\n",
       "<table border=\"1\" class=\"dataframe\">\n",
       "  <thead>\n",
       "    <tr style=\"text-align: right;\">\n",
       "      <th></th>\n",
       "      <th>pred_Human</th>\n",
       "      <th>pred_Bot</th>\n",
       "    </tr>\n",
       "  </thead>\n",
       "  <tbody>\n",
       "    <tr>\n",
       "      <th>real_Human</th>\n",
       "      <td>257</td>\n",
       "      <td>15</td>\n",
       "    </tr>\n",
       "    <tr>\n",
       "      <th>real_Bot</th>\n",
       "      <td>32</td>\n",
       "      <td>947</td>\n",
       "    </tr>\n",
       "  </tbody>\n",
       "</table>\n",
       "</div>"
      ],
      "text/plain": [
       "            pred_Human  pred_Bot\n",
       "real_Human         257        15\n",
       "real_Bot            32       947"
      ]
     },
     "execution_count": 137,
     "metadata": {},
     "output_type": "execute_result"
    }
   ],
   "source": [
    "conf = confusion_matrix(y_test_n, y_pred_n)\n",
    "predicted_cols = ['pred_'+str(c) for c in le.classes_]\n",
    "pd.DataFrame(conf, index= ['real_Human','real_Bot'],columns = ['pred_Human','pred_Bot'])"
   ]
  }
 ],
 "metadata": {
  "kernelspec": {
   "display_name": "Python 3",
   "language": "python",
   "name": "python3"
  },
  "language_info": {
   "codemirror_mode": {
    "name": "ipython",
    "version": 3
   },
   "file_extension": ".py",
   "mimetype": "text/x-python",
   "name": "python",
   "nbconvert_exporter": "python",
   "pygments_lexer": "ipython3",
   "version": "3.6.6"
  }
 },
 "nbformat": 4,
 "nbformat_minor": 2
}
