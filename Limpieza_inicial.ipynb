{
 "cells": [
  {
   "cell_type": "code",
   "execution_count": 1,
   "metadata": {},
   "outputs": [],
   "source": [
    "import pandas as pd"
   ]
  },
  {
   "cell_type": "code",
   "execution_count": 2,
   "metadata": {},
   "outputs": [
    {
     "name": "stderr",
     "output_type": "stream",
     "text": [
      "/opt/conda/lib/python3.6/site-packages/IPython/core/interactiveshell.py:2785: DtypeWarning: Columns (8,11) have mixed types. Specify dtype option on import or set low_memory=False.\n",
      "  interactivity=interactivity, compiler=compiler, result=result)\n",
      "/opt/conda/lib/python3.6/site-packages/IPython/core/interactiveshell.py:2785: DtypeWarning: Columns (10) have mixed types. Specify dtype option on import or set low_memory=False.\n",
      "  interactivity=interactivity, compiler=compiler, result=result)\n",
      "/opt/conda/lib/python3.6/site-packages/IPython/core/interactiveshell.py:2785: DtypeWarning: Columns (7,10) have mixed types. Specify dtype option on import or set low_memory=False.\n",
      "  interactivity=interactivity, compiler=compiler, result=result)\n"
     ]
    }
   ],
   "source": [
    "# Upload de Datasets\n",
    "users_ff = pd.read_csv('users_ff.csv')\n",
    "users_ss1 = pd.read_csv('users_ss1.csv')\n",
    "users_ss2 = pd.read_csv('users_ss2.csv')\n",
    "users_ss3 = pd.read_csv('users_ss3.csv')\n",
    "users_ts = pd.read_csv('users_ts.csv')\n",
    "tweets_ff = pd.read_csv('tweets_ff.csv')\n",
    "tweets_ss1 = pd.read_csv('tweets_ss1.csv')\n",
    "tweets_ss2 = pd.read_csv('tweets_ss2.csv')\n",
    "tweets_ss3 = pd.read_csv('tweets_ss3.csv')\n",
    "tweets_ts = pd.read_csv('tweets_ts.csv')"
   ]
  },
  {
   "cell_type": "markdown",
   "metadata": {},
   "source": [
    "### Dataset Usuarios"
   ]
  },
  {
   "cell_type": "code",
   "execution_count": 9,
   "metadata": {},
   "outputs": [
    {
     "name": "stderr",
     "output_type": "stream",
     "text": [
      "/opt/conda/lib/python3.6/site-packages/ipykernel_launcher.py:8: FutureWarning: Sorting because non-concatenation axis is not aligned. A future version\n",
      "of pandas will change to not sort by default.\n",
      "\n",
      "To accept the future behavior, pass 'sort=False'.\n",
      "\n",
      "To retain the current behavior and silence the warning, pass 'sort=True'.\n",
      "\n",
      "  \n"
     ]
    }
   ],
   "source": [
    "# Agregar columna para categorizar\n",
    "users_ss1['Cat'] = 'SocialSpambot'\n",
    "users_ss2['Cat'] = 'SocialSpambot'\n",
    "users_ss3['Cat'] = 'SocialSpambot'\n",
    "users_ts['Cat'] = 'TraditionalSpambot'\n",
    "users_ff['Cat'] = 'FollowersBot'\n",
    "# Concatenar datasets de Usuarios (SocialSpambots & Traditional Spambots)\n",
    "users_spam = pd.concat([users_ss1,users_ss2,users_ss3,users_ts,users_ff],ignore_index=True)"
   ]
  },
  {
   "cell_type": "code",
   "execution_count": null,
   "metadata": {},
   "outputs": [],
   "source": [
    "users_spam.info()"
   ]
  },
  {
   "cell_type": "code",
   "execution_count": 13,
   "metadata": {},
   "outputs": [],
   "source": [
    "# Exportar a pkl\n",
    "# users_spam.to_pickle('users_spam.pkl')"
   ]
  },
  {
   "cell_type": "markdown",
   "metadata": {},
   "source": [
    "### Dataset Tweets"
   ]
  },
  {
   "cell_type": "code",
   "execution_count": 11,
   "metadata": {},
   "outputs": [
    {
     "name": "stderr",
     "output_type": "stream",
     "text": [
      "/opt/conda/lib/python3.6/site-packages/ipykernel_launcher.py:8: FutureWarning: Sorting because non-concatenation axis is not aligned. A future version\n",
      "of pandas will change to not sort by default.\n",
      "\n",
      "To accept the future behavior, pass 'sort=False'.\n",
      "\n",
      "To retain the current behavior and silence the warning, pass 'sort=True'.\n",
      "\n",
      "  \n"
     ]
    }
   ],
   "source": [
    "# Agregar columna para categorizar\n",
    "tweets_ss1['Cat'] = 'SocialSpambot'\n",
    "tweets_ss2['Cat'] = 'SocialSpambot'\n",
    "tweets_ss3['Cat'] = 'SocialSpambot'\n",
    "tweets_ts['Cat'] = 'TraditionalSpambot'\n",
    "tweets_ff['Cat'] = 'FollowersBot'\n",
    "# Concatenar datasets de Usuarios (SocialSpambots & Traditional Spambots)\n",
    "tweets_spam = pd.concat([tweets_ss1,tweets_ss2,tweets_ss3,tweets_ts,tweets_ff],ignore_index=True)"
   ]
  },
  {
   "cell_type": "code",
   "execution_count": 12,
   "metadata": {},
   "outputs": [
    {
     "name": "stdout",
     "output_type": "stream",
     "text": [
      "<class 'pandas.core.frame.DataFrame'>\n",
      "RangeIndex: 3798254 entries, 0 to 3798253\n",
      "Data columns (total 26 columns):\n",
      "Cat                        object\n",
      "contributors               float64\n",
      "crawled_at                 object\n",
      "created_at                 object\n",
      "favorite_count             int64\n",
      "favorited                  float64\n",
      "geo                        float64\n",
      "id                         int64\n",
      "in_reply_to_screen_name    object\n",
      "in_reply_to_status_id      int64\n",
      "in_reply_to_user_id        int64\n",
      "num_hashtags               int64\n",
      "num_mentions               int64\n",
      "num_urls                   int64\n",
      "place                      object\n",
      "possibly_sensitive         float64\n",
      "reply_count                int64\n",
      "retweet_count              int64\n",
      "retweeted                  float64\n",
      "retweeted_status_id        float64\n",
      "source                     object\n",
      "text                       object\n",
      "timestamp                  object\n",
      "truncated                  float64\n",
      "updated                    object\n",
      "user_id                    int64\n",
      "dtypes: float64(7), int64(10), object(9)\n",
      "memory usage: 753.4+ MB\n"
     ]
    }
   ],
   "source": [
    "tweets_spam.info()"
   ]
  },
  {
   "cell_type": "code",
   "execution_count": 14,
   "metadata": {},
   "outputs": [],
   "source": [
    "# Exportar a pkl\n",
    "# tweets_spam.to_pickle('tweets_spam.pkl')"
   ]
  }
 ],
 "metadata": {
  "kernelspec": {
   "display_name": "Python 3",
   "language": "python",
   "name": "python3"
  },
  "language_info": {
   "codemirror_mode": {
    "name": "ipython",
    "version": 3
   },
   "file_extension": ".py",
   "mimetype": "text/x-python",
   "name": "python",
   "nbconvert_exporter": "python",
   "pygments_lexer": "ipython3",
   "version": "3.6.6"
  }
 },
 "nbformat": 4,
 "nbformat_minor": 2
}
